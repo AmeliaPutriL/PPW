{
  "nbformat": 4,
  "nbformat_minor": 0,
  "metadata": {
    "colab": {
      "provenance": []
    },
    "kernelspec": {
      "name": "python3",
      "display_name": "Python 3"
    },
    "language_info": {
      "name": "python"
    }
  },
  "cells": [
    {
      "cell_type": "markdown",
      "source": [
        "# Pengantar Web Mining\n"
      ],
      "metadata": {
        "id": "GqBLf1jXYg13"
      }
    },
    {
      "cell_type": "markdown",
      "source": [
        "## Pengertian\n",
        "\n",
        "Penambangan web atau web mining merupakan cara mendapatkan serta mengekstrak informasi dari internet menggunakan berbagai metode penambangan data. Sehingga informasi yang didapatkan bisa dimanfaatkan oleh perusahaan untuk pengambilan keputusan yang efektif.\n",
        "\n",
        "Berikut merupakan beberapa pengertian penambangan web menurut ahli:\n",
        "\n",
        "Penambangan web adalah penggunaan teknik penambangan data untuk secara otomatis menemukan dan mengekstrak informasi dari layanan web (Etzioni, 1996; CACM 39).\n",
        "\n",
        "Penambangan web bertujuan untuk menemukan pola-pola berguna atau pengetahuan dari struktur hiperlink web, isi halaman web, serta perilaku pengguna. (Bing Liu, 2007, Web Data Mining).\n"
      ],
      "metadata": {
        "id": "SeP0u5BubLOx"
      }
    },
    {
      "cell_type": "markdown",
      "source": [
        "## Tantangan Dalam Pemrosesan Data Web\n",
        "\n",
        "Web merupakan pangkalan data besar yang menyimpan informasi dalam berbagai format, seperti HTML, XML, maupun teks. Namun, pemrosesan data dari web menghadirkan beberapa tantangan seperti:\n",
        "\n",
        "-\tWeb memiliki ukuran yang besar sehingga dapat membuat proses web mining menjadi sangat kompleks.\n",
        "\n",
        "-\tWeb bersifat dinamis karena konten di dalamnya terus berubah dan diperbarui.\n",
        "\n",
        "-\tWeb tidak terpaut pada satu domain tertentu, melainkan mencakup hampir segala aspek kehidupan\n"
      ],
      "metadata": {
        "id": "h74RY3mWeAYD"
      }
    },
    {
      "cell_type": "markdown",
      "source": [
        "## Penambangan Isi Web (Content Mining)\n",
        "\n",
        "Proses web mining berfokus pada upaya mengekstak informasi yang bermanfaat dari berbagai dokumen yang terdapat di web internet. Informasi tersebut dapat berasal dari berbagai jenis konten dalam halaman web seperti :\n",
        "\n",
        "-\tText mining, sistem dapat menggali informasi dari artikel, deskripsi, maupun komentar.\n",
        "-\tImage mining digunakan untuk menganalisis data citra seperti foto dan ilustrasi.\n",
        "-\tAudio mining, data dalam bentuk audio misalnya pada rekaman suara atau musik.\n",
        "-\tVideo mining, memungkinkan penggalian informasi dari konten video seperti klip atu siaran streaming,\n",
        "-\tData terstuktur, misalnya tabel atau daftar yang dapat dilakukan melalui proses ekstraksi.\n"
      ],
      "metadata": {
        "id": "KcwVioS_eI7z"
      }
    },
    {
      "cell_type": "markdown",
      "source": [
        "### Aplikasi Teks Mining\n",
        "\n",
        "Ekstraksi informasi dari dokumen web dapat dilakukan dengan berbagai teknik, berikut beberapa teknik yang dapat dilakukan :\n",
        "\n",
        "-\tTopic modelling, yaitu metode untuk menemukan topik utama yang terkandug dalam sekumpulan dokumen.\n",
        "-\tPeringkas dokumen, yang bertujuan menyajikan inti informasi dari sebuah teks panjang menjadi lebih ringkas.\n",
        "-\tKlasisifikasi dokumen, misalnya dalam bentuk analisis sentimen atau opinion mining, untuk mengetahui apakah suatu teks bernada positif, negatif, dan netral.\n",
        "-\tPengelompokan dokumen, yang sering dimanfaatkan dalam sistem rekomendasi.\n",
        "-\tEkstraksi kata kunci, yaitu upaya menemukan kata atau frasa yang paling merepresentasikan isi dari suatu dokumen.\n"
      ],
      "metadata": {
        "id": "0SV1NxPweVug"
      }
    },
    {
      "cell_type": "markdown",
      "source": [
        "## Klasifikasi Dokumen (Content Mining)\n",
        "\n",
        "Klasifikasi dokumen dilakukan untuk mengelompokkan dokumen atau gambar yang belum pernah dilihat sebelumnya ke dalam kelas atau kategori tertentu dengan tingkat akurasi yang tinggi."
      ],
      "metadata": {
        "id": "ictF6pScenQg"
      }
    },
    {
      "cell_type": "markdown",
      "source": [
        "### Contoh Aplikasi\n",
        "\n",
        "-\tKategorisasi berita berdasarkan topiknya.\n",
        "-\tKategorisasi produk dalam e-commerce.\n",
        "-\tDeteksi spam pada email atau pesan.\n"
      ],
      "metadata": {
        "id": "lLO457FhepQ1"
      }
    },
    {
      "cell_type": "markdown",
      "source": [
        "### Metode yang Digunakan\n",
        "\n",
        "-\tNaive Bayes\n",
        "-\tSupport Vector Machines (SVM)\n",
        "-\tJaringan saraf tiruan (neural networks)\n",
        "-\tTransformers  \n"
      ],
      "metadata": {
        "id": "TJP4bbJUetzx"
      }
    },
    {
      "cell_type": "markdown",
      "source": [
        "## Pengelompokan Konten (Content Clustering)"
      ],
      "metadata": {
        "id": "9QkJ-tQkezSg"
      }
    },
    {
      "cell_type": "markdown",
      "source": [
        "### Tujuan Clustering\n",
        "\n",
        "-\tMengelompokkan dokumen berdasarkan Tingkat kemiripan.\n",
        "-\tDokumen dalam satu kelompok memiliki kesamaan yang tinggi.\n",
        "-\tDokumen antar kelompok berbeda memiliki kesamaan yang rendah.\n"
      ],
      "metadata": {
        "id": "8oBc1i0Se4x4"
      }
    },
    {
      "cell_type": "markdown",
      "source": [
        "### Aplikasi Clustering\n",
        "\n",
        "-\tPengelompokan hasil pencarian (search result clustering)\n",
        "-\tPenemuan topik baru (topik discovery)\n"
      ],
      "metadata": {
        "id": "j_6GSIiZe9XS"
      }
    },
    {
      "cell_type": "markdown",
      "source": [
        "### Teknik yang digunakan\n",
        "\n",
        "-\tAlgoritma : dapat menggunakan K-Means, pengelompokkan hierarkirs (hierarchical clustering), S-BERT.\n",
        "-\tUkuran kesamaan: cosine similarity, jaccard similarity, dan kesamaan embedding (similarity of embeddings).\n"
      ],
      "metadata": {
        "id": "3Dd44KUJfDry"
      }
    },
    {
      "cell_type": "markdown",
      "source": [
        "## Analisa Sentimen\n",
        "\n",
        "Tugas utama analisis sentiment yakni menentukan polaritas dari teks, baik pada tingkat dokumen, kalimat, maupun fitur/atribut tertentu. Kategori polaritas yang umum digunakan yaitu positif, netral, dan negatif.\n",
        "\n",
        "Contoh aplikasi mencakup:\n",
        "\n",
        "-\tPrediksi suara (vote) berdasarkan tweet, misalnya untuk mengetahui pendapat publik terkait isu politik.\n",
        "-\tAnalisa utama produk, misalnya untuk mengidentifikasi apakah pelanggan merasa puas terhadap kualitas layanan, desainn, maupun harga.\n"
      ],
      "metadata": {
        "id": "mHWdpwpQfG_R"
      }
    },
    {
      "cell_type": "markdown",
      "source": [
        "## Web Usage Mining\n",
        "\n",
        "Ekstraksi informasi merupakan pengambilan informasi terstruktur dari konten web yang umumnya tidak terstruktur atau semi-structured, dimana tujuannya ialah menyusun informasi penting menjadi lebih terorganisir.\n",
        "Ekstraksi informasi dapat dilakukan terhadap berbagai jenis data yang dihasilkan melalui kunjungan halaman web dan transaksi pengguna. Data tersebut mencakup log akses server, log referer, log agen, serta cookie sisi klien. Dari sumber ini dapat diperoleh karakteristik pengguna dan profil penggunaan. Selain itu tersedia juga metadata yang meliputi atribut halaman, atribut konten, hingga data penggunaa. Juga ada data clickstream, yaitu catatan  urutan klik pengguna ketika menjelajahi situs web. Selanjutnya, analisis cliskstream yang digunakan untuk mengidentifikasi pola perilaku pengguna berdasarkan interaksi tersebut.\n"
      ],
      "metadata": {
        "id": "sAAvlcHZfTYX"
      }
    },
    {
      "cell_type": "markdown",
      "source": [
        "### Tahapan Clickstream Analysis\n",
        "\n",
        "-\tPre-process data: mengumpulkan, menggabungkan, membersihkan, serta menyusun data untuk mengidentifikasi pengguna, sesi, jumlah kunjungan halaman web, dan kunjungan keseluruhan.\n",
        "-\tExtract knowledge: menghasilkan wawasan berupa usage patterns, user profiles, pege profiles, visit profiles, dan customer value.\n",
        "-\tHasil analisis digunakan untuk meningkatkan kualitas data, memperbaiki desai situs web, serta meningkatkan nilai pelanggan.\n"
      ],
      "metadata": {
        "id": "l_XCoq6jfaFy"
      }
    },
    {
      "cell_type": "markdown",
      "source": [
        "### Aplikasi dari Web Usage Mining\n",
        "\n",
        "-\tProduct recommendation: memprediksi juga menyarankan produk yang paling populer atau diminati oleh penggunka, berdasarkan data pengguna yang memuat perilaku, preferensi, atau kesamaan dengan pengguna yang lain.\n",
        "-\tPersonalized search: metode pencarian informasi dengan hasil pencarian yang disesuaikan dengan preferensi, perilaku, dan konteks pengguna individu.\n"
      ],
      "metadata": {
        "id": "t7Ose4ADffry"
      }
    },
    {
      "cell_type": "markdown",
      "source": [
        "## Penambangan Struktur Web\n",
        "\n",
        "### Penemuan dan interprestasi pola dalam :\n",
        "-\tStruktur tautan (hyperlink) di internet.\n",
        "-\tHubungan sosial antar pelaku atau aktor yang berinteraksi pada web.\n",
        "### Sumber graph web\n",
        "-\tPencarian web (web crawls) termasuk halaman HTML dan tautan (hyperlink).\n",
        "-\tJaringan sosialn yang mencakup hubungan eksplisit antar pengguna\n",
        "-\tJenus data komunitas lainnya\n",
        "### Aplikasi web struktur mining\n",
        "Grafik web merupakan representasi visual dimana setiap halaman web digambarkan sebagai simpul(node), sedangkan hyperlink digambarkan sebagai sisi(edge). Analisis terhadap struktur grafik web dapat digunakan untuk berbagai tujuan, misalnya:  \n",
        "\n",
        "-\tmenentukan otoritas halaman melalui algoritma pagerank,\n",
        "-\tmendeteksi komunitas online,\n",
        "-\tserta menganalisis jaringan sosial digital.\n",
        "\n",
        "### Identifikasi simpul penting\n",
        "Siapa aktor penting dalam web ?\n",
        "Centrality merupakan konsep analisis jaringan yang digunakan untuk mengidentifikasi simpul atau halaman yang paling penting dalam suatu jaringan. Penerapannya mencakup pencarian halaman web seperti sutus berita utama, mengenali pengguna yang beperan sebagai influencer di mesia sosial, serta mendeteksi sumber informasi yang terpercaya.\n",
        "### Implementasi\n",
        "-\tgoogle search : menggunakan sistem rangking untuk menentukan urutan hasil pencarian.\n",
        "-\ttwitter/instagram : menampilkan akun influencer pada rekomendasi.\n",
        "-\tanalisis jaringan sosial : mencari pemimpin komunitas atau penyebar berita palsu.\n",
        "### Deteksi komunitas\n",
        "Komunitas merupakan himpunan aktor yang saling berinteraksi lebih sering. Deteksi komunitas berarti proses menemukan kelompok aktor dalam jaringan sosial yang saling berinteraksi lebih sering dibandingkan dengan aktor di luar kelompok tersebut.\n",
        "Teknik yang dapat dilakukan dapat menggunakan metode seperti Components atau K-Cores. Hasil deteksi komunitas biasanya dimanfaatkan dalam berbagai aplikasi, misalnya untuk sistem rekomendasi berbasis komunitas ataupun visualisasi jaringan.\n"
      ],
      "metadata": {
        "id": "B85TWIOjfiy1"
      }
    },
    {
      "cell_type": "markdown",
      "source": [
        "## Proses Web Mining\n",
        "\n",
        "### Gathering and exploration\n",
        "Di tahap pertama ini adalah pengumpulan dan eksplorasi data, dimana data diperoleh melalui crawling memanfaatkan web API. Kemudian data dieksplorasi dengan memahami data, membuat ringkasan statistic, dan terakhir membuat visualisasi data.\n",
        "### Preprocessing and transformation\n",
        "Pada tahap ini data mentah akan diubah menjadi representasi yang sesuai untuk metode data mining. Dalam proses ini terdapat reduksi dimensi, seleksi fitur, diskritasi atau binarisasi, serta transformasi teks ke bentuk vektor dan integrasi dari berbagai sumer data. Ini merupakan tahap paling penting karena bisa memakan waktu 70-80% dari waktu pemrosesan, dan kualitas persiapan data sangat menentukan validitas model yang dihasilkan.\n",
        "# Actual data mining\n",
        "Tahap ini merupakan penerapan metode data mining pada data yang sudah diproses. Hasilnya berupa model atau pola yang kemudian dievaluasi. Tahap ini bersitaf iteratif atau berulang, memperbaiki tahap pra-pemrosesan, meningkatkan kualitas dan jumlah data lati. Tujuannya untuk memperoleh model yang optimal dan dapat memberi wawasan yang bermanfaat.\n"
      ],
      "metadata": {
        "id": "9gxDkPfNhuk9"
      }
    },
    {
      "cell_type": "markdown",
      "source": [
        "## Penambangan Teks (Text Mining)\n",
        "Penambangan teks adalah proses memperoleh informasi bernilai atau berkualitas dari data berbentuk teks. Beberapa tugas utama dari penambangan teks adalah klasifikasi atau kategorisasi teks, pengelompokan (clustering), ekstraksi konsep atau entitas serta topic modelling, analisis sentimen, hingga peringkasan dokumen.\n"
      ],
      "metadata": {
        "id": "ShedWJeuiFVK"
      }
    },
    {
      "cell_type": "code",
      "source": [
        "!pip -q install -U jupyter-book"
      ],
      "metadata": {
        "colab": {
          "base_uri": "https://localhost:8080/"
        },
        "id": "tQ-dULZwl5Ap",
        "outputId": "f0a8fd2e-a91a-4784-b8d1-a46bbef12f8e"
      },
      "execution_count": null,
      "outputs": [
        {
          "output_type": "stream",
          "name": "stdout",
          "text": [
            "\u001b[?25l   \u001b[90m━━━━━━━━━━━━━━━━━━━━━━━━━━━━━━━━━━━━━━━━\u001b[0m \u001b[32m0.0/45.0 kB\u001b[0m \u001b[31m?\u001b[0m eta \u001b[36m-:--:--\u001b[0m\r\u001b[2K   \u001b[90m━━━━━━━━━━━━━━━━━━━━━━━━━━━━━━━━━━━━━━━━\u001b[0m \u001b[32m45.0/45.0 kB\u001b[0m \u001b[31m2.9 MB/s\u001b[0m eta \u001b[36m0:00:00\u001b[0m\n",
            "\u001b[?25h\u001b[?25l   \u001b[90m━━━━━━━━━━━━━━━━━━━━━━━━━━━━━━━━━━━━━━━━\u001b[0m \u001b[32m0.0/82.4 kB\u001b[0m \u001b[31m?\u001b[0m eta \u001b[36m-:--:--\u001b[0m\r\u001b[2K   \u001b[90m━━━━━━━━━━━━━━━━━━━━━━━━━━━━━━━━━━━━━━━━\u001b[0m \u001b[32m82.4/82.4 kB\u001b[0m \u001b[31m6.6 MB/s\u001b[0m eta \u001b[36m0:00:00\u001b[0m\n",
            "\u001b[2K   \u001b[90m━━━━━━━━━━━━━━━━━━━━━━━━━━━━━━━━━━━━━━━━\u001b[0m \u001b[32m83.2/83.2 kB\u001b[0m \u001b[31m6.1 MB/s\u001b[0m eta \u001b[36m0:00:00\u001b[0m\n",
            "\u001b[2K   \u001b[90m━━━━━━━━━━━━━━━━━━━━━━━━━━━━━━━━━━━━━━━━\u001b[0m \u001b[32m3.4/3.4 MB\u001b[0m \u001b[31m46.0 MB/s\u001b[0m eta \u001b[36m0:00:00\u001b[0m\n",
            "\u001b[2K   \u001b[90m━━━━━━━━━━━━━━━━━━━━━━━━━━━━━━━━━━━━━━━━\u001b[0m \u001b[32m434.0/434.0 kB\u001b[0m \u001b[31m25.1 MB/s\u001b[0m eta \u001b[36m0:00:00\u001b[0m\n",
            "\u001b[2K   \u001b[90m━━━━━━━━━━━━━━━━━━━━━━━━━━━━━━━━━━━━━━━━\u001b[0m \u001b[32m4.6/4.6 MB\u001b[0m \u001b[31m83.7 MB/s\u001b[0m eta \u001b[36m0:00:00\u001b[0m\n",
            "\u001b[2K   \u001b[90m━━━━━━━━━━━━━━━━━━━━━━━━━━━━━━━━━━━━━━━━\u001b[0m \u001b[32m2.2/2.2 MB\u001b[0m \u001b[31m54.6 MB/s\u001b[0m eta \u001b[36m0:00:00\u001b[0m\n",
            "\u001b[2K   \u001b[90m━━━━━━━━━━━━━━━━━━━━━━━━━━━━━━━━━━━━━━━━\u001b[0m \u001b[32m40.4/40.4 kB\u001b[0m \u001b[31m3.2 MB/s\u001b[0m eta \u001b[36m0:00:00\u001b[0m\n",
            "\u001b[2K   \u001b[90m━━━━━━━━━━━━━━━━━━━━━━━━━━━━━━━━━━━━━━━━\u001b[0m \u001b[32m87.5/87.5 kB\u001b[0m \u001b[31m6.7 MB/s\u001b[0m eta \u001b[36m0:00:00\u001b[0m\n",
            "\u001b[2K   \u001b[90m━━━━━━━━━━━━━━━━━━━━━━━━━━━━━━━━━━━━━━━━\u001b[0m \u001b[32m127.4/127.4 kB\u001b[0m \u001b[31m9.8 MB/s\u001b[0m eta \u001b[36m0:00:00\u001b[0m\n",
            "\u001b[2K   \u001b[90m━━━━━━━━━━━━━━━━━━━━━━━━━━━━━━━━━━━━━━━━\u001b[0m \u001b[32m1.6/1.6 MB\u001b[0m \u001b[31m62.9 MB/s\u001b[0m eta \u001b[36m0:00:00\u001b[0m\n",
            "\u001b[2K   \u001b[90m━━━━━━━━━━━━━━━━━━━━━━━━━━━━━━━━━━━━━━━━\u001b[0m \u001b[32m1.4/1.4 MB\u001b[0m \u001b[31m57.7 MB/s\u001b[0m eta \u001b[36m0:00:00\u001b[0m\n",
            "\u001b[?25h"
          ]
        }
      ]
    },
    {
      "cell_type": "code",
      "source": [
        "# Buat proyek bernama 'book'\n",
        "!rm -rf book\n",
        "!jupyter-book create book\n"
      ],
      "metadata": {
        "colab": {
          "base_uri": "https://localhost:8080/"
        },
        "id": "G72sCQDjsWeO",
        "outputId": "c62863ac-f249-43c2-c8b0-ede0ee69b2a0"
      },
      "execution_count": null,
      "outputs": [
        {
          "output_type": "stream",
          "name": "stdout",
          "text": [
            "\n",
            "\u001b[92m===============================================================================\u001b[0m\n",
            "\n",
            "Your book template can be found at\n",
            "\n",
            "    book/\n",
            "\n",
            "\u001b[92m===============================================================================\u001b[0m\n",
            "\n"
          ]
        }
      ]
    },
    {
      "cell_type": "code",
      "source": [
        "!mv profil.* book/ 2>/dev/null || true\n"
      ],
      "metadata": {
        "id": "GjDGOOG_saEE"
      },
      "execution_count": null,
      "outputs": []
    },
    {
      "cell_type": "code",
      "source": [
        "!jupyter-book build book\n"
      ],
      "metadata": {
        "colab": {
          "base_uri": "https://localhost:8080/"
        },
        "id": "4MEvtrlJsyRK",
        "outputId": "b730919f-e01f-4aa9-8987-b26eed5cfbb7"
      },
      "execution_count": null,
      "outputs": [
        {
          "output_type": "stream",
          "name": "stdout",
          "text": [
            "\u001b[32m\u001b[1mRunning Jupyter-Book v1.0.4.post1\u001b[0m\n",
            "\u001b[34m\u001b[1mSource Folder: \u001b[0m/content/book\n",
            "\u001b[34m\u001b[1mConfig Path: \u001b[0m/content/book/_config.yml\n",
            "\u001b[34m\u001b[1mOutput Path: \u001b[0m/content/book/_build/html\n",
            "\u001b[01mRunning Sphinx v7.4.7\u001b[39;49;00m\n",
            "\u001b[01mloading translations [en]... \u001b[39;49;00mdone\n",
            "\u001b[01mmaking output directory... \u001b[39;49;00mdone\n",
            "[etoc] Changing master_doc to 'intro'\n",
            "checking bibtex cache... out of date\n",
            "parsing bibtex file /content/book/references.bib... parsed 5 entries\n",
            "\u001b[01mmyst v3.0.1:\u001b[39;49;00m MdParserConfig(commonmark_only=False, gfm_only=False, enable_extensions={'substitution', 'colon_fence', 'tasklist', 'linkify', 'dollarmath'}, disable_syntax=[], all_links_external=False, links_external_new_tab=False, url_schemes=('mailto', 'http', 'https'), ref_domains=None, fence_as_directive=set(), number_code_blocks=[], title_to_header=False, heading_anchors=0, heading_slug_func=None, html_meta={}, footnote_transition=True, words_per_minute=200, substitutions={}, linkify_fuzzy_links=True, dmath_allow_labels=True, dmath_allow_space=True, dmath_allow_digits=True, dmath_double_inline=False, update_mathjax=True, mathjax_classes='tex2jax_process|mathjax_process|math|output_area', enable_checkboxes=False, suppress_warnings=[], highlight_code_blocks=True)\n",
            "\u001b[01mmyst-nb v1.3.0:\u001b[39;49;00m NbParserConfig(custom_formats={}, metadata_key='mystnb', cell_metadata_key='mystnb', kernel_rgx_aliases={}, eval_name_regex='^[a-zA-Z_][a-zA-Z0-9_]*$', execution_mode='force', execution_cache_path='', execution_excludepatterns=[], execution_timeout=30, execution_in_temp=False, execution_allow_errors=False, execution_raise_on_error=False, execution_show_tb=False, merge_streams=False, render_plugin='default', remove_code_source=False, remove_code_outputs=False, scroll_outputs=False, code_prompt_show='Show code cell {type}', code_prompt_hide='Hide code cell {type}', number_source_lines=False, output_stderr='show', render_text_lexer='myst-ansi', render_error_lexer='ipythontb', render_image_options={}, render_figure_options={}, render_markdown_format='commonmark', output_folder='build', append_css=True, metadata_to_fm=False)\n",
            "Using jupyter-cache at: /content/book/_build/.jupyter_cache\n",
            "\u001b[01msphinx-multitoc-numbering v0.1.3:\u001b[39;49;00m Loaded\n",
            "\u001b[01mbuilding [mo]: \u001b[39;49;00mtargets for 0 po files that are out of date\n",
            "\u001b[01mwriting output... \u001b[39;49;00m\n",
            "\u001b[01mbuilding [html]: \u001b[39;49;00mtargets for 4 source files that are out of date\n",
            "\u001b[01mupdating environment: \u001b[39;49;00m[new config] 4 added, 0 changed, 0 removed\n",
            "/content/book/markdown-notebooks.md: Executing notebook using local CWD [mystnb]\n",
            "0.00s - Debugger warning: It seems that frozen modules are being used, which may\n",
            "0.00s - make the debugger miss breakpoints. Please pass -Xfrozen_modules=off\n",
            "0.00s - to python to disable frozen modules.\n",
            "0.00s - Note: Debugging will proceed. Set PYDEVD_DISABLE_FILE_VALIDATION=1 to disable this validation.\n",
            "0.00s - Debugger warning: It seems that frozen modules are being used, which may\n",
            "0.00s - make the debugger miss breakpoints. Please pass -Xfrozen_modules=off\n",
            "0.00s - to python to disable frozen modules.\n",
            "0.00s - Note: Debugging will proceed. Set PYDEVD_DISABLE_FILE_VALIDATION=1 to disable this validation.\n",
            "/content/book/markdown-notebooks.md: Executed notebook in 1.91 seconds [mystnb]\n",
            "/content/book/notebooks.ipynb: Executing notebook using local CWD [mystnb]\n",
            "0.00s - Debugger warning: It seems that frozen modules are being used, which may\n",
            "0.00s - make the debugger miss breakpoints. Please pass -Xfrozen_modules=off\n",
            "0.00s - to python to disable frozen modules.\n",
            "0.00s - Note: Debugging will proceed. Set PYDEVD_DISABLE_FILE_VALIDATION=1 to disable this validation.\n",
            "/content/book/notebooks.ipynb: Executed notebook in 4.01 seconds [mystnb]\n",
            "\n",
            "\u001b[01mlooking for now-outdated files... \u001b[39;49;00mnone found\n",
            "\u001b[01mpickling environment... \u001b[39;49;00mdone\n",
            "\u001b[01mchecking consistency... \u001b[39;49;00mdone\n",
            "\u001b[01mpreparing documents... \u001b[39;49;00mdone\n",
            "\u001b[01mcopying assets... \u001b[39;49;00m\n",
            "\u001b[01mcopying static files... \u001b[39;49;00mdone\n",
            "\u001b[01mcopying extra files... \u001b[39;49;00mdone\n",
            "\u001b[01mcopying assets: \u001b[39;49;00mdone\n",
            "\n",
            "\u001b[01mgenerating indices... \u001b[39;49;00mgenindex done\n",
            "\u001b[01mwriting additional pages... \u001b[39;49;00msearch done\n",
            "\u001b[2K\u001b[01mcopying images... \u001b[39;49;00m[100%] \u001b[33m_build/jupyter_execute/cefbdee9d4d9534f9d0e2dd4b010de5710848a972bd31d1a9a8f407309bfdae1.png\u001b[39;49;00m\n",
            "\u001b[01mdumping search index in English (code: en)... \u001b[39;49;00mdone\n",
            "\u001b[01mdumping object inventory... \u001b[39;49;00mdone\n",
            "[etoc] missing index.html written as redirect to 'intro.html'\n",
            "\u001b[01mbuild succeeded.\u001b[39;49;00m\n",
            "\n",
            "The HTML pages are in book/_build/html.\n",
            "\n",
            "\u001b[92m===============================================================================\u001b[0m\n",
            "\n",
            "Finished generating HTML for book.\n",
            "Your book's HTML pages are here:\n",
            "    book/_build/html/\n",
            "You can look at your book by opening this file in a browser:\n",
            "    book/_build/html/index.html\n",
            "Or paste this line directly into your browser bar:\n",
            "    file:///content/book/_build/html/index.html            \n",
            "\n",
            "\u001b[92m===============================================================================\u001b[0m\n",
            "\n"
          ]
        }
      ]
    },
    {
      "cell_type": "code",
      "source": [
        "%cd book/_build/html\n",
        "!touch .nojekyll     # Wajib: supaya GitHub Pages tidak menjalankan Jekyll\n"
      ],
      "metadata": {
        "colab": {
          "base_uri": "https://localhost:8080/"
        },
        "id": "hFqQEGBUs4uJ",
        "outputId": "5c5f7a92-3d9c-437c-dfd2-bdedd1c633ae"
      },
      "execution_count": null,
      "outputs": [
        {
          "output_type": "stream",
          "name": "stdout",
          "text": [
            "/content/book/_build/html\n"
          ]
        }
      ]
    },
    {
      "cell_type": "code",
      "source": [
        "!git init\n",
        "!git config user.email \"amelialestari6268@gmail.com\"\n",
        "!git config user.name \"AmeliaPutriL\"\n",
        "!git branch -M main\n",
        "!git remote add origin https://github.com/AmeliaPutriL/ppw.git\n",
        "!git add .\n",
        "!git commit -m \"Initial deploy: hasil build Jupyter Book\"\n",
        "!git push -u origin main\n"
      ],
      "metadata": {
        "colab": {
          "base_uri": "https://localhost:8080/"
        },
        "id": "FhTdlZy5s8YL",
        "outputId": "4196749b-99d2-4f76-a8ef-55f58b9490e5"
      },
      "execution_count": null,
      "outputs": [
        {
          "output_type": "stream",
          "name": "stdout",
          "text": [
            "\u001b[33mhint: Using 'master' as the name for the initial branch. This default branch name\u001b[m\n",
            "\u001b[33mhint: is subject to change. To configure the initial branch name to use in all\u001b[m\n",
            "\u001b[33mhint: of your new repositories, which will suppress this warning, call:\u001b[m\n",
            "\u001b[33mhint: \u001b[m\n",
            "\u001b[33mhint: \tgit config --global init.defaultBranch <name>\u001b[m\n",
            "\u001b[33mhint: \u001b[m\n",
            "\u001b[33mhint: Names commonly chosen instead of 'master' are 'main', 'trunk' and\u001b[m\n",
            "\u001b[33mhint: 'development'. The just-created branch can be renamed via this command:\u001b[m\n",
            "\u001b[33mhint: \u001b[m\n",
            "\u001b[33mhint: \tgit branch -m <name>\u001b[m\n",
            "Initialized empty Git repository in /content/book/_build/html/.git/\n",
            "[main (root-commit) 939637c] Initial deploy: hasil build Jupyter Book\n",
            " 165 files changed, 12813 insertions(+)\n",
            " create mode 100644 .buildinfo\n",
            " create mode 100644 .nojekyll\n",
            " create mode 100644 _images/cefbdee9d4d9534f9d0e2dd4b010de5710848a972bd31d1a9a8f407309bfdae1.png\n",
            " create mode 100644 _sources/intro.md\n",
            " create mode 100644 _sources/markdown-notebooks.md\n",
            " create mode 100644 _sources/markdown.md\n",
            " create mode 100644 _sources/notebooks.ipynb\n",
            " create mode 100644 _sphinx_design_static/design-tabs.js\n",
            " create mode 100644 _sphinx_design_static/sphinx-design.min.css\n",
            " create mode 100644 _static/basic.css\n",
            " create mode 100644 _static/check-solid.svg\n",
            " create mode 100644 _static/clipboard.min.js\n",
            " create mode 100644 _static/copy-button.svg\n",
            " create mode 100644 _static/copybutton.css\n",
            " create mode 100644 _static/copybutton.js\n",
            " create mode 100644 _static/copybutton_funcs.js\n",
            " create mode 100644 _static/design-tabs.js\n",
            " create mode 100644 _static/doctools.js\n",
            " create mode 100644 _static/documentation_options.js\n",
            " create mode 100644 _static/file.png\n",
            " create mode 100644 _static/images/logo_binder.svg\n",
            " create mode 100644 _static/images/logo_colab.png\n",
            " create mode 100644 _static/images/logo_deepnote.svg\n",
            " create mode 100644 _static/images/logo_jupyterhub.svg\n",
            " create mode 100644 _static/language_data.js\n",
            " create mode 100644 _static/locales/ar/LC_MESSAGES/booktheme.mo\n",
            " create mode 100644 _static/locales/ar/LC_MESSAGES/booktheme.po\n",
            " create mode 100644 _static/locales/bg/LC_MESSAGES/booktheme.mo\n",
            " create mode 100644 _static/locales/bg/LC_MESSAGES/booktheme.po\n",
            " create mode 100644 _static/locales/bn/LC_MESSAGES/booktheme.mo\n",
            " create mode 100644 _static/locales/bn/LC_MESSAGES/booktheme.po\n",
            " create mode 100644 _static/locales/ca/LC_MESSAGES/booktheme.mo\n",
            " create mode 100644 _static/locales/ca/LC_MESSAGES/booktheme.po\n",
            " create mode 100644 _static/locales/cs/LC_MESSAGES/booktheme.mo\n",
            " create mode 100644 _static/locales/cs/LC_MESSAGES/booktheme.po\n",
            " create mode 100644 _static/locales/da/LC_MESSAGES/booktheme.mo\n",
            " create mode 100644 _static/locales/da/LC_MESSAGES/booktheme.po\n",
            " create mode 100644 _static/locales/de/LC_MESSAGES/booktheme.mo\n",
            " create mode 100644 _static/locales/de/LC_MESSAGES/booktheme.po\n",
            " create mode 100644 _static/locales/el/LC_MESSAGES/booktheme.mo\n",
            " create mode 100644 _static/locales/el/LC_MESSAGES/booktheme.po\n",
            " create mode 100644 _static/locales/eo/LC_MESSAGES/booktheme.mo\n",
            " create mode 100644 _static/locales/eo/LC_MESSAGES/booktheme.po\n",
            " create mode 100644 _static/locales/es/LC_MESSAGES/booktheme.mo\n",
            " create mode 100644 _static/locales/es/LC_MESSAGES/booktheme.po\n",
            " create mode 100644 _static/locales/et/LC_MESSAGES/booktheme.mo\n",
            " create mode 100644 _static/locales/et/LC_MESSAGES/booktheme.po\n",
            " create mode 100644 _static/locales/fi/LC_MESSAGES/booktheme.mo\n",
            " create mode 100644 _static/locales/fi/LC_MESSAGES/booktheme.po\n",
            " create mode 100644 _static/locales/fr/LC_MESSAGES/booktheme.mo\n",
            " create mode 100644 _static/locales/fr/LC_MESSAGES/booktheme.po\n",
            " create mode 100644 _static/locales/hr/LC_MESSAGES/booktheme.mo\n",
            " create mode 100644 _static/locales/hr/LC_MESSAGES/booktheme.po\n",
            " create mode 100644 _static/locales/id/LC_MESSAGES/booktheme.mo\n",
            " create mode 100644 _static/locales/id/LC_MESSAGES/booktheme.po\n",
            " create mode 100644 _static/locales/it/LC_MESSAGES/booktheme.mo\n",
            " create mode 100644 _static/locales/it/LC_MESSAGES/booktheme.po\n",
            " create mode 100644 _static/locales/iw/LC_MESSAGES/booktheme.mo\n",
            " create mode 100644 _static/locales/iw/LC_MESSAGES/booktheme.po\n",
            " create mode 100644 _static/locales/ja/LC_MESSAGES/booktheme.mo\n",
            " create mode 100644 _static/locales/ja/LC_MESSAGES/booktheme.po\n",
            " create mode 100644 _static/locales/ko/LC_MESSAGES/booktheme.mo\n",
            " create mode 100644 _static/locales/ko/LC_MESSAGES/booktheme.po\n",
            " create mode 100644 _static/locales/lt/LC_MESSAGES/booktheme.mo\n",
            " create mode 100644 _static/locales/lt/LC_MESSAGES/booktheme.po\n",
            " create mode 100644 _static/locales/lv/LC_MESSAGES/booktheme.mo\n",
            " create mode 100644 _static/locales/lv/LC_MESSAGES/booktheme.po\n",
            " create mode 100644 _static/locales/ml/LC_MESSAGES/booktheme.mo\n",
            " create mode 100644 _static/locales/ml/LC_MESSAGES/booktheme.po\n",
            " create mode 100644 _static/locales/mr/LC_MESSAGES/booktheme.mo\n",
            " create mode 100644 _static/locales/mr/LC_MESSAGES/booktheme.po\n",
            " create mode 100644 _static/locales/ms/LC_MESSAGES/booktheme.mo\n",
            " create mode 100644 _static/locales/ms/LC_MESSAGES/booktheme.po\n",
            " create mode 100644 _static/locales/nl/LC_MESSAGES/booktheme.mo\n",
            " create mode 100644 _static/locales/nl/LC_MESSAGES/booktheme.po\n",
            " create mode 100644 _static/locales/no/LC_MESSAGES/booktheme.mo\n",
            " create mode 100644 _static/locales/no/LC_MESSAGES/booktheme.po\n",
            " create mode 100644 _static/locales/pl/LC_MESSAGES/booktheme.mo\n",
            " create mode 100644 _static/locales/pl/LC_MESSAGES/booktheme.po\n",
            " create mode 100644 _static/locales/pt/LC_MESSAGES/booktheme.mo\n",
            " create mode 100644 _static/locales/pt/LC_MESSAGES/booktheme.po\n",
            " create mode 100644 _static/locales/ro/LC_MESSAGES/booktheme.mo\n",
            " create mode 100644 _static/locales/ro/LC_MESSAGES/booktheme.po\n",
            " create mode 100644 _static/locales/ru/LC_MESSAGES/booktheme.mo\n",
            " create mode 100644 _static/locales/ru/LC_MESSAGES/booktheme.po\n",
            " create mode 100644 _static/locales/sk/LC_MESSAGES/booktheme.mo\n",
            " create mode 100644 _static/locales/sk/LC_MESSAGES/booktheme.po\n",
            " create mode 100644 _static/locales/sl/LC_MESSAGES/booktheme.mo\n",
            " create mode 100644 _static/locales/sl/LC_MESSAGES/booktheme.po\n",
            " create mode 100644 _static/locales/sr/LC_MESSAGES/booktheme.mo\n",
            " create mode 100644 _static/locales/sr/LC_MESSAGES/booktheme.po\n",
            " create mode 100644 _static/locales/sv/LC_MESSAGES/booktheme.mo\n",
            " create mode 100644 _static/locales/sv/LC_MESSAGES/booktheme.po\n",
            " create mode 100644 _static/locales/ta/LC_MESSAGES/booktheme.mo\n",
            " create mode 100644 _static/locales/ta/LC_MESSAGES/booktheme.po\n",
            " create mode 100644 _static/locales/te/LC_MESSAGES/booktheme.mo\n",
            " create mode 100644 _static/locales/te/LC_MESSAGES/booktheme.po\n",
            " create mode 100644 _static/locales/tg/LC_MESSAGES/booktheme.mo\n",
            " create mode 100644 _static/locales/tg/LC_MESSAGES/booktheme.po\n",
            " create mode 100644 _static/locales/th/LC_MESSAGES/booktheme.mo\n",
            " create mode 100644 _static/locales/th/LC_MESSAGES/booktheme.po\n",
            " create mode 100644 _static/locales/tl/LC_MESSAGES/booktheme.mo\n",
            " create mode 100644 _static/locales/tl/LC_MESSAGES/booktheme.po\n",
            " create mode 100644 _static/locales/tr/LC_MESSAGES/booktheme.mo\n",
            " create mode 100644 _static/locales/tr/LC_MESSAGES/booktheme.po\n",
            " create mode 100644 _static/locales/uk/LC_MESSAGES/booktheme.mo\n",
            " create mode 100644 _static/locales/uk/LC_MESSAGES/booktheme.po\n",
            " create mode 100644 _static/locales/ur/LC_MESSAGES/booktheme.mo\n",
            " create mode 100644 _static/locales/ur/LC_MESSAGES/booktheme.po\n",
            " create mode 100644 _static/locales/vi/LC_MESSAGES/booktheme.mo\n",
            " create mode 100644 _static/locales/vi/LC_MESSAGES/booktheme.po\n",
            " create mode 100644 _static/locales/zh_CN/LC_MESSAGES/booktheme.mo\n",
            " create mode 100644 _static/locales/zh_CN/LC_MESSAGES/booktheme.po\n",
            " create mode 100644 _static/locales/zh_TW/LC_MESSAGES/booktheme.mo\n",
            " create mode 100644 _static/locales/zh_TW/LC_MESSAGES/booktheme.po\n",
            " create mode 100644 _static/logo.png\n",
            " create mode 100644 _static/minus.png\n",
            " create mode 100644 _static/mystnb.8ecb98da25f57f5357bf6f572d296f466b2cfe2517ffebfabe82451661e28f02.css\n",
            " create mode 100644 _static/play-solid.svg\n",
            " create mode 100644 _static/plus.png\n",
            " create mode 100644 _static/pygments.css\n",
            " create mode 100644 _static/sbt-webpack-macros.html\n",
            " create mode 100644 _static/scripts/bootstrap.js\n",
            " create mode 100644 _static/scripts/bootstrap.js.LICENSE.txt\n",
            " create mode 100644 _static/scripts/bootstrap.js.map\n",
            " create mode 100644 _static/scripts/pydata-sphinx-theme.js\n",
            " create mode 100644 _static/scripts/pydata-sphinx-theme.js.map\n",
            " create mode 100644 _static/scripts/sphinx-book-theme.js\n",
            " create mode 100644 _static/scripts/sphinx-book-theme.js.map\n",
            " create mode 100644 _static/searchtools.js\n",
            " create mode 100644 _static/sphinx-design.min.css\n",
            " create mode 100644 _static/sphinx-thebe.css\n",
            " create mode 100644 _static/sphinx-thebe.js\n",
            " create mode 100644 _static/sphinx_highlight.js\n",
            " create mode 100644 _static/styles/bootstrap.css\n",
            " create mode 100644 _static/styles/bootstrap.css.map\n",
            " create mode 100644 _static/styles/pydata-sphinx-theme.css\n",
            " create mode 100644 _static/styles/pydata-sphinx-theme.css.map\n",
            " create mode 100644 _static/styles/sphinx-book-theme.css\n",
            " create mode 100644 _static/styles/sphinx-book-theme.css.map\n",
            " create mode 100644 _static/styles/theme.css\n",
            " create mode 100644 _static/togglebutton.css\n",
            " create mode 100644 _static/togglebutton.js\n",
            " create mode 100644 _static/vendor/fontawesome/6.5.2/LICENSE.txt\n",
            " create mode 100644 _static/vendor/fontawesome/6.5.2/css/all.min.css\n",
            " create mode 100644 _static/vendor/fontawesome/6.5.2/js/all.min.js\n",
            " create mode 100644 _static/vendor/fontawesome/6.5.2/js/all.min.js.LICENSE.txt\n",
            " create mode 100644 _static/vendor/fontawesome/6.5.2/webfonts/fa-brands-400.ttf\n",
            " create mode 100644 _static/vendor/fontawesome/6.5.2/webfonts/fa-brands-400.woff2\n",
            " create mode 100644 _static/vendor/fontawesome/6.5.2/webfonts/fa-regular-400.ttf\n",
            " create mode 100644 _static/vendor/fontawesome/6.5.2/webfonts/fa-regular-400.woff2\n",
            " create mode 100644 _static/vendor/fontawesome/6.5.2/webfonts/fa-solid-900.ttf\n",
            " create mode 100644 _static/vendor/fontawesome/6.5.2/webfonts/fa-solid-900.woff2\n",
            " create mode 100644 _static/vendor/fontawesome/6.5.2/webfonts/fa-v4compatibility.ttf\n",
            " create mode 100644 _static/vendor/fontawesome/6.5.2/webfonts/fa-v4compatibility.woff2\n",
            " create mode 100644 _static/webpack-macros.html\n",
            " create mode 100644 genindex.html\n",
            " create mode 100644 index.html\n",
            " create mode 100644 intro.html\n",
            " create mode 100644 markdown-notebooks.html\n",
            " create mode 100644 markdown.html\n",
            " create mode 100644 notebooks.html\n",
            " create mode 100644 objects.inv\n",
            " create mode 100644 search.html\n",
            " create mode 100644 searchindex.js\n",
            "fatal: could not read Username for 'https://github.com': No such device or address\n"
          ]
        }
      ]
    }
  ]
}