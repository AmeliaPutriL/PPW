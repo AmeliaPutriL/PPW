{
  "nbformat": 4,
  "nbformat_minor": 0,
  "metadata": {
    "colab": {
      "provenance": []
    },
    "kernelspec": {
      "name": "python3",
      "display_name": "Python 3"
    },
    "language_info": {
      "name": "python"
    }
  },
  "cells": [
    {
      "cell_type": "markdown",
      "source": [
        "# Crawling\n",
        "\n",
        "Crawling adalah proses mengambil atau menyalin data dari suatu sumber di internet secara otomatis menggunakan program atau skrip. Di sini saya akan mencoba crawling data pada jurnal springer nature https://www.springernature.com/gp/librarians/products/journals/nature-research-journals/nature-reviews. Berikut adalah proses-prosesnya:"
      ],
      "metadata": {
        "id": "AxAGN1gGYKLt"
      }
    },
    {
      "cell_type": "markdown",
      "source": [
        "## Import Library yang Dibutuhkan"
      ],
      "metadata": {
        "id": "9rjN60xWZqvT"
      }
    },
    {
      "cell_type": "code",
      "execution_count": 16,
      "metadata": {
        "colab": {
          "base_uri": "https://localhost:8080/"
        },
        "id": "NRkkj8SGPz4l",
        "outputId": "9dd853f4-be81-4f71-f7cc-3c79c2f4bb32"
      },
      "outputs": [
        {
          "output_type": "stream",
          "name": "stdout",
          "text": [
            "Requirement already satisfied: sprynger in /usr/local/lib/python3.12/dist-packages (0.4.1)\n",
            "Requirement already satisfied: lxml in /usr/local/lib/python3.12/dist-packages (from sprynger) (5.4.0)\n",
            "Requirement already satisfied: requests in /usr/local/lib/python3.12/dist-packages (from sprynger) (2.32.4)\n",
            "Requirement already satisfied: urllib3 in /usr/local/lib/python3.12/dist-packages (from sprynger) (2.5.0)\n",
            "Requirement already satisfied: platformdirs in /usr/local/lib/python3.12/dist-packages (from sprynger) (4.3.8)\n",
            "Requirement already satisfied: charset_normalizer<4,>=2 in /usr/local/lib/python3.12/dist-packages (from requests->sprynger) (3.4.3)\n",
            "Requirement already satisfied: idna<4,>=2.5 in /usr/local/lib/python3.12/dist-packages (from requests->sprynger) (3.10)\n",
            "Requirement already satisfied: certifi>=2017.4.17 in /usr/local/lib/python3.12/dist-packages (from requests->sprynger) (2025.8.3)\n"
          ]
        }
      ],
      "source": [
        "pip install sprynger"
      ]
    },
    {
      "cell_type": "code",
      "source": [
        "import requests\n",
        "import csv\n",
        "import time\n"
      ],
      "metadata": {
        "id": "uCV3MggVSVhZ"
      },
      "execution_count": 18,
      "outputs": []
    },
    {
      "cell_type": "markdown",
      "source": [
        "## Menyiapkan Kunci API (API Key)\n",
        "Pertama, kita perlu mendapatkan API Key dari Springer Nature Developer Portal. Kunci ini berfungsi sebagai identitas agar server Springer mengenali siapa yang mengakses data. Tanpa API Key, permintaan data tidak akan dilayani. API Key dimasukkan ke dalam variabel api_key."
      ],
      "metadata": {
        "id": "GaZ1u1ZlUyw3"
      }
    },
    {
      "cell_type": "markdown",
      "source": [
        "## Menentukan Kata Kunci Pencarian\n",
        "\n",
        "Proses berikutnya adalah menentukan kata kunci yang ingin kita cari, misalnya di sini saya menentukan kata kunci \"web mining\", \"web usage mining\".\n",
        "Crawler akan menggunakan kata kunci ini untuk mencari artikel yang sesuai di database Springer."
      ],
      "metadata": {
        "id": "E8Y3aqSzbULD"
      }
    },
    {
      "cell_type": "code",
      "source": [
        "api_key = \"34cf8373948405e957dffcbdda56bca5\"  # ganti dengan API key Anda\n",
        "keywords = [\"web mining\", \"web usage mining\", \"text mining\"]\n",
        "url = \"https://api.springernature.com/meta/v2/json\"\n",
        "output_file = \"springer_results.csv\"\n"
      ],
      "metadata": {
        "id": "KtBfgIP3UkYn"
      },
      "execution_count": 19,
      "outputs": []
    },
    {
      "cell_type": "markdown",
      "source": [
        "Menyiapkan file CSV kosong lalu tulis header kolom: keyword, doi, title, abstract."
      ],
      "metadata": {
        "id": "ZlrRvCH3U797"
      }
    },
    {
      "cell_type": "code",
      "source": [
        "f = open(output_file, \"w\", newline=\"\", encoding=\"utf-8-sig\")\n",
        "writer = csv.writer(f)\n",
        "writer.writerow([\"keyword\", \"doi\", \"title\", \"abstract\"])\n"
      ],
      "metadata": {
        "colab": {
          "base_uri": "https://localhost:8080/"
        },
        "id": "WChpCkBWVJyZ",
        "outputId": "cb0c3fd1-d17c-4623-a3b9-05f5397813ae"
      },
      "execution_count": 20,
      "outputs": [
        {
          "output_type": "execute_result",
          "data": {
            "text/plain": [
              "28"
            ]
          },
          "metadata": {},
          "execution_count": 20
        }
      ]
    },
    {
      "cell_type": "markdown",
      "source": [
        "## Mengirim Permintaan ke API\n",
        "Setelah menentukam kata kunci, selanjutnya mengirimkan permintaan (request) ke API Springer.\n",
        "Permintaan ini akan membawa informasi:\n",
        "\n",
        "kata kunci yang kita cari (q)\n",
        "\n",
        "API Key sebagai identitas\n",
        "\n",
        "jumlah hasil yang ingin kita ambil (p)\n",
        "\n",
        "Jika permintaan berhasil, API akan mengembalikan data dalam format JSON."
      ],
      "metadata": {
        "id": "KTBlDLDLVOjG"
      }
    },
    {
      "cell_type": "markdown",
      "source": [
        "## Mengecek dan Mengambil Data\n",
        "\n",
        "Ketika API merespons, kemudian cek apakah permintaan berhasil.\n",
        "Jika berhasil (status_code = 200), maka data JSON yang berisi artikel akan diambil.\n",
        "Dari data tersebut, kita bisa menyaring informasi penting seperti DOI, judul, dan abstrak artikel."
      ],
      "metadata": {
        "id": "xIip4E2_b_cZ"
      }
    },
    {
      "cell_type": "markdown",
      "source": [
        "## Menyimpan Hasil ke CSV\n",
        "\n",
        "Langkah terakhir adalah menyimpan hasil crawling ke dalam file CSV.\n",
        "Kita membuat file bernama springer_results.csv yang berisi:\n",
        "\n",
        "- kata kunci pencarian\n",
        "\n",
        "- DOI\n",
        "\n",
        "- judul artikel\n",
        "\n",
        "- abstrak artikel"
      ],
      "metadata": {
        "id": "H9CI6tNTcNzh"
      }
    },
    {
      "cell_type": "code",
      "source": [
        "for kw in keywords:\n",
        "    params = {\n",
        "        \"q\": kw,\n",
        "        \"api_key\": api_key,\n",
        "        \"p\": 10  # jumlah hasil per query (maks 50)\n",
        "    }\n",
        "    response = requests.get(url, params=params)\n",
        "\n",
        "    if response.status_code == 200:\n",
        "        data = response.json()\n",
        "        print(f\"\\nKata kunci: {kw}\")\n",
        "        print(f\"Total hasil: {data['result'][0]['total']}\\n\")\n",
        "\n",
        "        for record in data.get(\"records\", []):\n",
        "            doi = record.get(\"doi\", \"N/A\")\n",
        "            title = record.get(\"title\", \"No title\")\n",
        "            abstract = record.get(\"abstract\", \"No abstract\")\n",
        "\n",
        "            # Tulis ke CSV\n",
        "            writer.writerow([kw, doi, title, abstract])\n",
        "\n",
        "            # Print ringkasan ke console\n",
        "            print(f\"DOI: {doi}\")\n",
        "            print(f\"Title: {title}\")\n",
        "            print(f\"Abstract: {abstract[:200]}...\\n\")\n",
        "    else:\n",
        "        print(\"Error:\", response.status_code, response.text)\n",
        "\n",
        "    # jeda antar request agar tidak dianggap spam\n",
        "    time.sleep(1)\n"
      ],
      "metadata": {
        "colab": {
          "base_uri": "https://localhost:8080/"
        },
        "id": "6lKecL8XVfAx",
        "outputId": "2b33d52c-ebc5-46d2-ceb5-ea6fb01cfe05"
      },
      "execution_count": 21,
      "outputs": [
        {
          "output_type": "stream",
          "name": "stdout",
          "text": [
            "\n",
            "Kata kunci: web mining\n",
            "Total hasil: 317019\n",
            "\n",
            "DOI: 10.1007/978-3-032-00983-8_5\n",
            "Title: Survey on Data Mining and Machine Learning Methods Used in Analyzing Tweets\n",
            "Abstract: It is observed that the Mental illness by the actions and individual emotions and expressions towards a particular situation. It indicates that American Psychiatric Association that has 19% of people ...\n",
            "\n",
            "DOI: 10.1007/978-3-031-93802-3_7\n",
            "Title: Unveiling Power Laws in Graph Mining: Techniques and Applications in Graph Query Analysis\n",
            "Abstract: Power laws play a crucial role in understanding the structural and functional properties of real-world graphs, influencing various aspects of graph mining and query processing. This paper explores the...\n",
            "\n",
            "DOI: 10.1007/978-981-96-7238-7_2\n",
            "Title: Architecture Mining Approach for Systems-of-Systems: Monitoring and Discovery\n",
            "Abstract: Context: Systems of Systems (SoS) constitute a type of complex software systems resulting from integrating heterogeneous constituent systems that are independently operable on their own but are networ...\n",
            "\n",
            "DOI: 10.1007/978-3-031-95296-8_15\n",
            "Title: A Mathematical Model and Algorithm for Data Analysis in the Intelligent Management System for Mining and Transport Complexes\n",
            "Abstract: Machine learning methods play an important role in creating algorithms for data analysis in the mining industry. These methods allow you to train the system based on historical data and identify hidde...\n",
            "\n",
            "DOI: 10.1007/978-3-031-90470-7_6\n",
            "Title: ‘Internet of Things’ and ‘Social Networking’: Containment\n",
            "Abstract: Moving to the post-2000 period, or the post-formation Internet Polity, this chapter begins with the implications of the internet becoming the centred repository of sources, medium of investigation, an...\n",
            "\n",
            "DOI: 10.1007/978-3-031-93802-3_10\n",
            "Title: Integrating Graph Convolutional Networks for Web Traffic Prediction\n",
            "Abstract: Web traffic forecasting plays a crucial role in optimizing network resources, enhancing user experience, and ensuring efficient server load management. Traditional approaches, such as ARIMA, SARIMA, a...\n",
            "\n",
            "DOI: 10.1007/978-3-031-93257-1_6\n",
            "Title: Adaptive Web API Recommendation via Matching Service Clusters and Mashup Requirement\n",
            "Abstract: With the rapid proliferation of Web services and Web APIs, recommendation systems can effectively address the issue of information overload and alleviate the burden of meaningless filtering. Existing ...\n",
            "\n",
            "DOI: 10.1007/978-3-032-02215-8_3\n",
            "Title: Leveraging Machine Learning Techniques for Customer Data Deduplication - Hard-Won Lessons from a Real-World Project in the Financial Industry\n",
            "Abstract: This paper is associated with a tutorial presented at DEXA 2025 Conferences and Workshops. The tutorial shares the practical experience gained from a 3-year R&D project for a big financial institution...\n",
            "\n",
            "DOI: 10.1007/978-3-031-95296-8_21\n",
            "Title: Intelligent Control System for Ore Transportation and Grinding Process in Gold Mining Fields\n",
            "Abstract: This paper is devoted to optimizing the processes of work using intellectual control systems for the transportation and grinding of ore in gold mining fields. Ore is being optimized through the introd...\n",
            "\n",
            "DOI: 10.1007/978-3-032-02088-8_29\n",
            "Title: Benchmarking Embedding Techniques for Modeling User Navigation Behavior on Task-Oriented Software\n",
            "Abstract: Understanding user navigation patterns from clickstream data is crucial for improving business software, yet remains challenging due to the complexity and variability of real-world environments. Unlik...\n",
            "\n",
            "\n",
            "Kata kunci: web usage mining\n",
            "Total hasil: 90635\n",
            "\n",
            "DOI: 10.1007/978-3-031-90470-7_6\n",
            "Title: ‘Internet of Things’ and ‘Social Networking’: Containment\n",
            "Abstract: Moving to the post-2000 period, or the post-formation Internet Polity, this chapter begins with the implications of the internet becoming the centred repository of sources, medium of investigation, an...\n",
            "\n",
            "DOI: 10.1007/978-3-032-00983-8_5\n",
            "Title: Survey on Data Mining and Machine Learning Methods Used in Analyzing Tweets\n",
            "Abstract: It is observed that the Mental illness by the actions and individual emotions and expressions towards a particular situation. It indicates that American Psychiatric Association that has 19% of people ...\n",
            "\n",
            "DOI: 10.1007/978-3-031-93802-3_7\n",
            "Title: Unveiling Power Laws in Graph Mining: Techniques and Applications in Graph Query Analysis\n",
            "Abstract: Power laws play a crucial role in understanding the structural and functional properties of real-world graphs, influencing various aspects of graph mining and query processing. This paper explores the...\n",
            "\n",
            "DOI: 10.1007/978-3-032-02215-8_7\n",
            "Title: An Enhanced FP-Growth Algorithm with Hybrid Adaptive Support Threshold for Association Rule Mining\n",
            "Abstract: Finding frequent itemsets remains challenging due to manual threshold specification requirements in existing algorithms. This paper presents an Enhanced FP-Growth algorithm incorporating a hybrid adap...\n",
            "\n",
            "DOI: 10.1007/978-3-031-93257-1_6\n",
            "Title: Adaptive Web API Recommendation via Matching Service Clusters and Mashup Requirement\n",
            "Abstract: With the rapid proliferation of Web services and Web APIs, recommendation systems can effectively address the issue of information overload and alleviate the burden of meaningless filtering. Existing ...\n",
            "\n",
            "DOI: 10.1007/978-3-032-02088-8_29\n",
            "Title: Benchmarking Embedding Techniques for Modeling User Navigation Behavior on Task-Oriented Software\n",
            "Abstract: Understanding user navigation patterns from clickstream data is crucial for improving business software, yet remains challenging due to the complexity and variability of real-world environments. Unlik...\n",
            "\n",
            "DOI: 10.1007/978-3-032-01723-9_9\n",
            "Title: Analyzing Water Consumption Patterns in Mexico City: A GIS and Data Science Approach\n",
            "Abstract: Water scarcity in Mexico City has become an increasingly urgent issue, exacerbated by inefficient and unequal consumption patterns across its urban fabric. This study advances Geographic Information S...\n",
            "\n",
            "DOI: 10.1007/978-981-96-6951-6_19\n",
            "Title: Research on Sensor Behavioral Psychological Health Based on Multi-task Learning\n",
            "Abstract: As society develops, mental health is becoming increasingly important. Traditional mental health assessment methods, such as face-to-face interviews and observational techniques, are limited by severa...\n",
            "\n",
            "DOI: 10.1007/978-3-031-89518-0_1\n",
            "Title: On the Centrality of Web Trackers: Assessing Its Potential for Automated Detection\n",
            "Abstract: For the past 20 years, web tracking has raised worries among privacy advocates and authorities responsible for data protection. Researchers have proposed several machine learning-driven remedies to id...\n",
            "\n",
            "DOI: 10.1007/978-3-032-02215-8_6\n",
            "Title: FNoDe: Faulty Node Detection in Microservices Architecture\n",
            "Abstract: As cloud services shift from monolithic architectures to microservices, post-failure fault and anomaly detection becomes increasingly challenging due to cascading effects across interdependent service...\n",
            "\n",
            "\n",
            "Kata kunci: text mining\n",
            "Total hasil: 561517\n",
            "\n",
            "DOI: 10.1007/978-3-032-00983-8_5\n",
            "Title: Survey on Data Mining and Machine Learning Methods Used in Analyzing Tweets\n",
            "Abstract: It is observed that the Mental illness by the actions and individual emotions and expressions towards a particular situation. It indicates that American Psychiatric Association that has 19% of people ...\n",
            "\n",
            "DOI: 10.1007/978-3-032-00983-8_6\n",
            "Title: Optimizing Powder Factor for Sustainable Mining Operations Through Machine Learning Models: A Step Towards Intelligent Mining\n",
            "Abstract: This research addresses the challenge of optimizing the powder factor (PF) in mining operations to enhance blasting efficiency and sustainability. Machine learning models, including Linear Regression ...\n",
            "\n",
            "DOI: 10.1007/978-3-032-02929-4_9\n",
            "Title: Discovering Comprehensive Branched Declarative Process Constraints\n",
            "Abstract: The more nuanced the declarative process constraints discovered from an event log, the more likely they are to capture meaningful business knowledge, thus fostering the application of declarative proc...\n",
            "\n",
            "DOI: 10.1007/978-3-032-01475-7_13\n",
            "Title: Pattern Mining Under Simon’s Congruence\n",
            "Abstract: Given two strings  u and v and an integer  k , we say u and v are Simon’s congruent with respect to k if they have the same set of subsequences of length at most k . We study the complete pattern mini...\n",
            "\n",
            "DOI: 10.1007/978-981-96-2771-4_1\n",
            "Title: Research on Vulnerability Mining Technology of Electric Power Industrial Control Equipment Based on Genetic Algorithm\n",
            "Abstract: The traditional vulnerability mining methods for information systems require prior knowledge of protocol specifications, which often necessitates developers to invest significant time in learning and ...\n",
            "\n",
            "DOI: 10.1007/978-3-031-96841-9_2\n",
            "Title: Analyzing Side-Tracking of Developers Using Object-Centric Process Mining\n",
            "Abstract: Managers need to analyze the software development process to pro-actively make decisions that meet quality, budget and time objectives. To aid this analysis, a number of data-driven approaches exist, ...\n",
            "\n",
            "DOI: 10.1007/978-3-032-02515-9_21\n",
            "Title: In Search of Digital Talent: Evidence from Public Sector Job Advertisements in Germany Using LLM-Enabled Competence Classification\n",
            "Abstract: The public sector continues to struggle with the digital transformation of its organizations, lagging behind the private sector in implementing digital processes and services. A key success factor is ...\n",
            "\n",
            "DOI: 10.1007/978-3-031-93802-3_1\n",
            "Title: A Comprehensive Overview of Graph Convolutional Network\n",
            "Abstract: A graph convolutional network (GCN) is a neural network explicitly developed for processing graph-structured data input. Graph-structured data is represented as a graph, with each node denoting an ent...\n",
            "\n",
            "DOI: 10.1007/978-3-031-93601-2_21\n",
            "Title: Data Science Techniques for Opinion Mining in Industrial Applications\n",
            "Abstract: Opinion mining is a crucial research area in data science that focuses on the automatic analysis of textual data (such as reviews, customer comments, and feedback) to identify and evaluate sentiments ...\n",
            "\n",
            "DOI: 10.1007/978-981-96-6594-5_12\n",
            "Title: MLLM-Driven Semantic Enhancement and Alignment for Text-Based Person Search\n",
            "Abstract: Text-Based Person Search (TBPS) seeks to accurately locate target pedestrian images within extensive image databases by leveraging natural language descriptions, with the primary challenge centered ar...\n",
            "\n"
          ]
        }
      ]
    },
    {
      "cell_type": "code",
      "source": [
        "f.close()\n",
        "print(\"Selesai. Hasil disimpan di:\", output_file)\n"
      ],
      "metadata": {
        "colab": {
          "base_uri": "https://localhost:8080/"
        },
        "id": "gA3LO4ojVwgn",
        "outputId": "b95fadc5-cb16-41cb-84e8-3257cb9a7ae9"
      },
      "execution_count": 22,
      "outputs": [
        {
          "output_type": "stream",
          "name": "stdout",
          "text": [
            "Selesai. Hasil disimpan di: springer_results.csv\n"
          ]
        }
      ]
    }
  ]
}